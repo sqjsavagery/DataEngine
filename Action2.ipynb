{
 "cells": [
  {
   "cell_type": "code",
   "execution_count": 23,
   "metadata": {},
   "outputs": [
    {
     "name": "stdout",
     "output_type": "stream",
     "text": [
      "[[ 86.2         81.          76.6       ]\n",
      " [ 68.          65.          30.        ]\n",
      " [ 98.          90.          98.        ]\n",
      " [120.16        87.2        587.84      ]\n",
      " [ 10.96175168   9.33809402  24.24541194]]\n",
      "语文平均成绩: 86.20\n",
      "语文最低分: 68\n",
      "语文最高分: 98\n",
      "语文成绩方差: 120.16\n",
      "语文成绩标准差: 10.96\n",
      "\n",
      "数学平均成绩: 81.00\n",
      "数学最低分: 65\n",
      "数学最高分: 90\n",
      "数学成绩方差: 87.20\n",
      "数学成绩标准差: 9.34\n",
      "\n",
      "英语平均成绩: 76.60\n",
      "英语最低分: 30\n",
      "英语最高分: 98\n",
      "英语成绩方差: 587.84\n",
      "英语成绩标准差: 24.25\n",
      "\n",
      "第1名:张飞，总分:163\n",
      "第2名:典韦，总分:255\n",
      "第3名:许褚，总分:260\n",
      "第4名:关羽，总分:269\n",
      "第5名:刘备，总分:272\n"
     ]
    }
   ],
   "source": [
    "import numpy as np\n",
    "#将学生的成绩生成narray\n",
    "students = np.array([[68,65,30],\n",
    "                     [95,76,98],\n",
    "                     [98,86,88],\n",
    "                     [90,88,77],\n",
    "                     [80,90,90]])\n",
    "#利用numpy统计函数计算平均值、最大值、最小值、方差、标准差\n",
    "final = np.array([np.mean(students, axis = 0),\n",
    "                  np.min(students, axis = 0),\n",
    "                  np.max(students, axis = 0),\n",
    "                  np.var(students, axis = 0),\n",
    "                  np.std(students, axis = 0)])\n",
    "print(final)\n",
    "#计算每个学生的三科总成绩,把总成绩的元素从小到大排序后，提取对应的索引index\n",
    "score_total = np.sum(students, axis = 1)\n",
    "score_rank_index = np.argsort(score_total)\n",
    "subject_cols = ['语文','数学','英语']\n",
    "name_cols = ['张飞','关羽','刘备','典韦','许褚']\n",
    "#打印输出\n",
    "for i, sub in enumerate(subject_cols): \n",
    "    print(\"{0}平均成绩: {1:.2f}\".format(sub, final[0,i])) \n",
    "    print(\"{0}最低分: {1:.0f}\".format(sub, final[1,i])) \n",
    "    print(\"{0}最高分: {1:.0f}\".format(sub, final[2,i])) \n",
    "    print(\"{0}成绩方差: {1:.2f}\".format(sub, final[3,i])) \n",
    "    print(\"{0}成绩标准差: {1:.2f}\\n\".format(sub, final[4,i]))\n",
    "for i, rk in enumerate(score_rank_index): \n",
    "    print(\"第{2}名:{0}，总分:{1:.0f}\".format(name_cols[rk], score_total[rk], i+1))"
   ]
  },
  {
   "cell_type": "code",
   "execution_count": null,
   "metadata": {},
   "outputs": [],
   "source": []
  },
  {
   "cell_type": "code",
   "execution_count": null,
   "metadata": {},
   "outputs": [],
   "source": []
  }
 ],
 "metadata": {
  "kernelspec": {
   "display_name": "Python 3",
   "language": "python",
   "name": "python3"
  },
  "language_info": {
   "codemirror_mode": {
    "name": "ipython",
    "version": 3
   },
   "file_extension": ".py",
   "mimetype": "text/x-python",
   "name": "python",
   "nbconvert_exporter": "python",
   "pygments_lexer": "ipython3",
   "version": "3.7.4"
  }
 },
 "nbformat": 4,
 "nbformat_minor": 2
}
